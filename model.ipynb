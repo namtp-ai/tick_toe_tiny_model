{
  "nbformat": 4,
  "nbformat_minor": 0,
  "metadata": {
    "language_info": {
      "name": "python",
      "codemirror_mode": {
        "name": "ipython",
        "version": 3
      },
      "version": "3.6.10-final"
    },
    "orig_nbformat": 2,
    "file_extension": ".py",
    "mimetype": "text/x-python",
    "name": "python",
    "npconvert_exporter": "python",
    "pygments_lexer": "ipython3",
    "version": 3,
    "kernelspec": {
      "name": "python361064bitdeepspeechcondac71844df1f364f8b8c0b5eccfad7e50f",
      "display_name": "Python 3.6.10 64-bit ('deep-speech': conda)"
    },
    "colab": {
      "name": "OCR.ipynb",
      "provenance": [],
      "include_colab_link": true
    }
  },
  "cells": [
    {
      "cell_type": "markdown",
      "metadata": {
        "id": "view-in-github",
        "colab_type": "text"
      },
      "source": [
        "<a href=\"https://colab.research.google.com/github/NamTran123/tick_toe_tiny_model/blob/master/model.ipynb\" target=\"_parent\"><img src=\"https://colab.research.google.com/assets/colab-badge.svg\" alt=\"Open In Colab\"/></a>"
      ]
    },
    {
      "cell_type": "code",
      "metadata": {
        "id": "eTCvvH0MQsFl",
        "colab_type": "code",
        "colab": {}
      },
      "source": [
        "from __future__ import absolute_import, division, print_function, unicode_literals\n",
        "\n",
        "import tensorflow as tf\n",
        "\n",
        "from tensorflow.keras import datasets, layers, models\n",
        "import matplotlib.pyplot as plt\n",
        "import os\n",
        "import cv2\n",
        "from sklearn.model_selection import train_test_split\n",
        "from sklearn import preprocessing\n",
        "from sklearn.utils import shuffle\n",
        "\n",
        "import numpy as np"
      ],
      "execution_count": null,
      "outputs": []
    },
    {
      "cell_type": "code",
      "metadata": {
        "id": "SfSL1_PiQsFq",
        "colab_type": "code",
        "colab": {}
      },
      "source": [
        "def pre_process(DATA_DIR):\n",
        "    imgs = []\n",
        "    labels = []\n",
        "    list_dir = os.listdir(DATA_DIR)\n",
        "    for folder in list_dir:\n",
        "        list_items = os.listdir(DATA_DIR+folder)\n",
        "        for item in list_items:\n",
        "            img = cv2.imread(DATA_DIR+folder+\"/\"+item,0)\n",
        "            img = img/255.0\n",
        "            img = cv2.resize(img,(32,32))\n",
        "            imgs.append(img)\n",
        "            labels.append(folder.lower())\n",
        "    return imgs, labels"
      ],
      "execution_count": null,
      "outputs": []
    },
    {
      "cell_type": "code",
      "metadata": {
        "id": "JT05E_M_QsFt",
        "colab_type": "code",
        "colab": {
          "base_uri": "https://localhost:8080/",
          "height": 493
        },
        "outputId": "92504648-72b1-42df-ad82-6c4708c6f7ef"
      },
      "source": [
        "model = models.Sequential()\n",
        "model.add(layers.Conv2D(32, (3, 3), activation='relu', input_shape=(32, 32,1)))\n",
        "model.add(layers.MaxPooling2D((2, 2)))\n",
        "model.add(layers.Conv2D(64, (3, 3), activation='relu'))\n",
        "model.add(layers.MaxPooling2D((2, 2)))\n",
        "model.add(layers.Conv2D(64, (3, 3), activation='relu'))\n",
        "# model.add(layers.MaxPooling2D((2, 2)))\n",
        "# model.add(layers.Conv2D(64, (3, 3), activation='relu'))\n",
        "\n",
        "model.add(layers.Flatten())\n",
        "model.add(layers.Dense(64, activation='relu'))\n",
        "model.add(layers.Dense(32, activation='relu'))\n",
        "model.add(layers.Dense(64, activation='relu'))\n",
        "\n",
        "model.add(layers.Dense(2,activation='softmax'))\n",
        "\n",
        "model.summary()\n",
        "\n",
        "model.compile(optimizer='adam',\n",
        "              loss=tf.keras.losses.SparseCategoricalCrossentropy(from_logits=True),\n",
        "              metrics=['accuracy'])"
      ],
      "execution_count": null,
      "outputs": [
        {
          "output_type": "stream",
          "text": [
            "Model: \"sequential_2\"\n",
            "_________________________________________________________________\n",
            "Layer (type)                 Output Shape              Param #   \n",
            "=================================================================\n",
            "conv2d_6 (Conv2D)            (None, 30, 30, 32)        320       \n",
            "_________________________________________________________________\n",
            "max_pooling2d_4 (MaxPooling2 (None, 15, 15, 32)        0         \n",
            "_________________________________________________________________\n",
            "conv2d_7 (Conv2D)            (None, 13, 13, 64)        18496     \n",
            "_________________________________________________________________\n",
            "max_pooling2d_5 (MaxPooling2 (None, 6, 6, 64)          0         \n",
            "_________________________________________________________________\n",
            "conv2d_8 (Conv2D)            (None, 4, 4, 64)          36928     \n",
            "_________________________________________________________________\n",
            "flatten_2 (Flatten)          (None, 1024)              0         \n",
            "_________________________________________________________________\n",
            "dense_8 (Dense)              (None, 64)                65600     \n",
            "_________________________________________________________________\n",
            "dense_9 (Dense)              (None, 32)                2080      \n",
            "_________________________________________________________________\n",
            "dense_10 (Dense)             (None, 64)                2112      \n",
            "_________________________________________________________________\n",
            "dense_11 (Dense)             (None, 2)                 130       \n",
            "=================================================================\n",
            "Total params: 125,666\n",
            "Trainable params: 125,666\n",
            "Non-trainable params: 0\n",
            "_________________________________________________________________\n"
          ],
          "name": "stdout"
        }
      ]
    },
    {
      "cell_type": "code",
      "metadata": {
        "id": "DI1w3rrWQsFw",
        "colab_type": "code",
        "colab": {
          "base_uri": "https://localhost:8080/",
          "height": 51
        },
        "outputId": "46dc2d8f-caa1-412c-b3f4-55431690b85a"
      },
      "source": [
        "imgs, labels = pre_process(\"/content/data/\")\n",
        "le = preprocessing.LabelEncoder()\n",
        "imgs = np.asarray(imgs)\n",
        "labels = np.asarray(labels)\n",
        "print(labels)\n",
        "le.fit(labels)\n",
        "labels_new = le.transform(labels) \n",
        "print(labels_new)\n",
        "imgs = imgs[:,:,:,np.newaxis]\n",
        "imgs, labels_new = shuffle(imgs, labels_new)\n",
        "\n",
        "X_train, X_test, y_train, y_test = train_test_split(imgs, labels_new, test_size=0.2,shuffle=True)"
      ],
      "execution_count": null,
      "outputs": [
        {
          "output_type": "stream",
          "text": [
            "['tick' 'tick' 'tick' ... 'toe' 'toe' 'toe']\n",
            "[0 0 0 ... 1 1 1]\n"
          ],
          "name": "stdout"
        }
      ]
    },
    {
      "cell_type": "code",
      "metadata": {
        "id": "wkKQ8gnnTmdm",
        "colab_type": "code",
        "colab": {
          "base_uri": "https://localhost:8080/",
          "height": 34
        },
        "outputId": "a66e7f45-3b46-478a-8854-ba96e3c3f5dd"
      },
      "source": [
        "print(len(X_train))"
      ],
      "execution_count": null,
      "outputs": [
        {
          "output_type": "stream",
          "text": [
            "1332\n"
          ],
          "name": "stdout"
        }
      ]
    },
    {
      "cell_type": "code",
      "metadata": {
        "id": "wjkTjFbFQsFz",
        "colab_type": "code",
        "colab": {
          "base_uri": "https://localhost:8080/",
          "height": 1000
        },
        "outputId": "8d8e7501-9387-4727-85f5-07c2f360857f"
      },
      "source": [
        "history = model.fit(X_train, y_train, epochs=40, \n",
        "                    validation_data=(X_test, y_test))"
      ],
      "execution_count": null,
      "outputs": [
        {
          "output_type": "stream",
          "text": [
            "Epoch 1/40\n",
            "42/42 [==============================] - 2s 45ms/step - loss: 0.4117 - accuracy: 0.9520 - val_loss: 0.3266 - val_accuracy: 0.9880\n",
            "Epoch 2/40\n",
            "42/42 [==============================] - 2s 45ms/step - loss: 0.3291 - accuracy: 0.9842 - val_loss: 0.3379 - val_accuracy: 0.9760\n",
            "Epoch 3/40\n",
            "42/42 [==============================] - 2s 45ms/step - loss: 0.3409 - accuracy: 0.9707 - val_loss: 0.3298 - val_accuracy: 0.9820\n",
            "Epoch 4/40\n",
            "42/42 [==============================] - 2s 49ms/step - loss: 0.3242 - accuracy: 0.9895 - val_loss: 0.3357 - val_accuracy: 0.9760\n",
            "Epoch 5/40\n",
            "42/42 [==============================] - 2s 43ms/step - loss: 0.3220 - accuracy: 0.9910 - val_loss: 0.3306 - val_accuracy: 0.9820\n",
            "Epoch 6/40\n",
            "42/42 [==============================] - 2s 44ms/step - loss: 0.3253 - accuracy: 0.9872 - val_loss: 0.3298 - val_accuracy: 0.9820\n",
            "Epoch 7/40\n",
            "42/42 [==============================] - 2s 44ms/step - loss: 0.3199 - accuracy: 0.9940 - val_loss: 0.3266 - val_accuracy: 0.9880\n",
            "Epoch 8/40\n",
            "42/42 [==============================] - 2s 44ms/step - loss: 0.3187 - accuracy: 0.9947 - val_loss: 0.3265 - val_accuracy: 0.9850\n",
            "Epoch 9/40\n",
            "42/42 [==============================] - 2s 42ms/step - loss: 0.3186 - accuracy: 0.9947 - val_loss: 0.3256 - val_accuracy: 0.9880\n",
            "Epoch 10/40\n",
            "42/42 [==============================] - 2s 43ms/step - loss: 0.3186 - accuracy: 0.9947 - val_loss: 0.3259 - val_accuracy: 0.9880\n",
            "Epoch 11/40\n",
            "42/42 [==============================] - 2s 44ms/step - loss: 0.3186 - accuracy: 0.9947 - val_loss: 0.3263 - val_accuracy: 0.9850\n",
            "Epoch 12/40\n",
            "42/42 [==============================] - 2s 45ms/step - loss: 0.3186 - accuracy: 0.9947 - val_loss: 0.3265 - val_accuracy: 0.9850\n",
            "Epoch 13/40\n",
            "42/42 [==============================] - 2s 45ms/step - loss: 0.3185 - accuracy: 0.9947 - val_loss: 0.3267 - val_accuracy: 0.9850\n",
            "Epoch 14/40\n",
            "42/42 [==============================] - 2s 44ms/step - loss: 0.3185 - accuracy: 0.9947 - val_loss: 0.3268 - val_accuracy: 0.9850\n",
            "Epoch 15/40\n",
            "42/42 [==============================] - 2s 43ms/step - loss: 0.3185 - accuracy: 0.9947 - val_loss: 0.3271 - val_accuracy: 0.9850\n",
            "Epoch 16/40\n",
            "42/42 [==============================] - 2s 41ms/step - loss: 0.3185 - accuracy: 0.9947 - val_loss: 0.3273 - val_accuracy: 0.9850\n",
            "Epoch 17/40\n",
            "42/42 [==============================] - 2s 41ms/step - loss: 0.3185 - accuracy: 0.9947 - val_loss: 0.3275 - val_accuracy: 0.9850\n",
            "Epoch 18/40\n",
            "42/42 [==============================] - 2s 43ms/step - loss: 0.3185 - accuracy: 0.9947 - val_loss: 0.3276 - val_accuracy: 0.9850\n",
            "Epoch 19/40\n",
            "42/42 [==============================] - 2s 45ms/step - loss: 0.3185 - accuracy: 0.9947 - val_loss: 0.3277 - val_accuracy: 0.9850\n",
            "Epoch 20/40\n",
            "42/42 [==============================] - 2s 43ms/step - loss: 0.3185 - accuracy: 0.9947 - val_loss: 0.3279 - val_accuracy: 0.9850\n",
            "Epoch 21/40\n",
            "42/42 [==============================] - 2s 44ms/step - loss: 0.3185 - accuracy: 0.9947 - val_loss: 0.3280 - val_accuracy: 0.9850\n",
            "Epoch 22/40\n",
            "42/42 [==============================] - 2s 41ms/step - loss: 0.3185 - accuracy: 0.9947 - val_loss: 0.3281 - val_accuracy: 0.9850\n",
            "Epoch 23/40\n",
            "42/42 [==============================] - 2s 40ms/step - loss: 0.3185 - accuracy: 0.9947 - val_loss: 0.3282 - val_accuracy: 0.9850\n",
            "Epoch 24/40\n",
            "42/42 [==============================] - 2s 43ms/step - loss: 0.3353 - accuracy: 0.9767 - val_loss: 0.3611 - val_accuracy: 0.9520\n",
            "Epoch 25/40\n",
            "42/42 [==============================] - 2s 44ms/step - loss: 0.3289 - accuracy: 0.9835 - val_loss: 0.3397 - val_accuracy: 0.9730\n",
            "Epoch 26/40\n",
            "42/42 [==============================] - 2s 46ms/step - loss: 0.3311 - accuracy: 0.9820 - val_loss: 0.3393 - val_accuracy: 0.9730\n",
            "Epoch 27/40\n",
            "42/42 [==============================] - 2s 44ms/step - loss: 0.3259 - accuracy: 0.9872 - val_loss: 0.3283 - val_accuracy: 0.9850\n",
            "Epoch 28/40\n",
            "42/42 [==============================] - 2s 44ms/step - loss: 0.3225 - accuracy: 0.9902 - val_loss: 0.3403 - val_accuracy: 0.9730\n",
            "Epoch 29/40\n",
            "42/42 [==============================] - 2s 44ms/step - loss: 0.3241 - accuracy: 0.9887 - val_loss: 0.3255 - val_accuracy: 0.9880\n",
            "Epoch 30/40\n",
            "42/42 [==============================] - 2s 43ms/step - loss: 0.3215 - accuracy: 0.9910 - val_loss: 0.3225 - val_accuracy: 0.9910\n",
            "Epoch 31/40\n",
            "42/42 [==============================] - 2s 43ms/step - loss: 0.3204 - accuracy: 0.9925 - val_loss: 0.3360 - val_accuracy: 0.9760\n",
            "Epoch 32/40\n",
            "42/42 [==============================] - 2s 44ms/step - loss: 0.3212 - accuracy: 0.9925 - val_loss: 0.3288 - val_accuracy: 0.9850\n",
            "Epoch 33/40\n",
            "42/42 [==============================] - 2s 44ms/step - loss: 0.3215 - accuracy: 0.9910 - val_loss: 0.3364 - val_accuracy: 0.9760\n",
            "Epoch 34/40\n",
            "42/42 [==============================] - 2s 44ms/step - loss: 0.3209 - accuracy: 0.9925 - val_loss: 0.3342 - val_accuracy: 0.9790\n",
            "Epoch 35/40\n",
            "42/42 [==============================] - 2s 45ms/step - loss: 0.3198 - accuracy: 0.9932 - val_loss: 0.3351 - val_accuracy: 0.9790\n",
            "Epoch 36/40\n",
            "42/42 [==============================] - 2s 44ms/step - loss: 0.3215 - accuracy: 0.9917 - val_loss: 0.3327 - val_accuracy: 0.9790\n",
            "Epoch 37/40\n",
            "42/42 [==============================] - 2s 44ms/step - loss: 0.3208 - accuracy: 0.9925 - val_loss: 0.3337 - val_accuracy: 0.9790\n",
            "Epoch 38/40\n",
            "42/42 [==============================] - 2s 45ms/step - loss: 0.3209 - accuracy: 0.9917 - val_loss: 0.3298 - val_accuracy: 0.9820\n",
            "Epoch 39/40\n",
            "42/42 [==============================] - 2s 42ms/step - loss: 0.3193 - accuracy: 0.9940 - val_loss: 0.3295 - val_accuracy: 0.9820\n",
            "Epoch 40/40\n",
            "42/42 [==============================] - 2s 44ms/step - loss: 0.3193 - accuracy: 0.9940 - val_loss: 0.3292 - val_accuracy: 0.9850\n"
          ],
          "name": "stdout"
        }
      ]
    },
    {
      "cell_type": "code",
      "metadata": {
        "id": "g1aLG4qhQsF1",
        "colab_type": "code",
        "colab": {
          "base_uri": "https://localhost:8080/",
          "height": 300
        },
        "outputId": "362190de-f011-45b2-954e-495281681999"
      },
      "source": [
        "plt.plot(history.history['accuracy'], label='accuracy')\n",
        "plt.plot(history.history['val_accuracy'], label = 'val_accuracy')\n",
        "plt.xlabel('Epoch')\n",
        "plt.ylabel('Accuracy')\n",
        "plt.ylim([0.5, 1])\n",
        "plt.legend(loc='lower right')\n",
        "test_loss, test_acc = model.evaluate(X_test,  y_test, verbose=2)\n"
      ],
      "execution_count": null,
      "outputs": [
        {
          "output_type": "stream",
          "text": [
            "11/11 - 0s - loss: 0.3292 - accuracy: 0.9850\n"
          ],
          "name": "stdout"
        },
        {
          "output_type": "display_data",
          "data": {
            "image/png": "[encoded data removed]",
            "text/plain": [
              "<Figure size 432x288 with 1 Axes>"
            ]
          },
          "metadata": {
            "tags": [],
            "needs_background": "light"
          }
        }
      ]
    },
    {
      "cell_type": "code",
      "metadata": {
        "id": "odGodfxZQsF4",
        "colab_type": "code",
        "colab": {
          "base_uri": "https://localhost:8080/",
          "height": 68
        },
        "outputId": "b2780045-b642-4718-9bb3-fa96db8db12b"
      },
      "source": [
        "img = cv2.imread(\"/content/data/tik/[0.15174981].png\",0)\n",
        "img = img/255.0\n",
        "img = cv2.resize(img,(32,32))\n",
        "img = img[:,:,np.newaxis]\n",
        "imgs_test = []\n",
        "imgs_test.append(img)\n",
        "imgs_test = np.asarray(imgs_test)\n",
        "\n",
        "label = model.predict(imgs_test)\n",
        "print(max(label[0]))\n",
        "print(np.argmax(label[0]))\n",
        "\n",
        "le.inverse_transform([np.argmax(label[0])])"
      ],
      "execution_count": null,
      "outputs": [
        {
          "output_type": "stream",
          "text": [
            "1.0\n",
            "0\n"
          ],
          "name": "stdout"
        },
        {
          "output_type": "execute_result",
          "data": {
            "text/plain": [
              "array(['tik'], dtype='<U3')"
            ]
          },
          "metadata": {
            "tags": []
          },
          "execution_count": 15
        }
      ]
    },
    {
      "cell_type": "code",
      "metadata": {
        "id": "9v2lkTsBQsF7",
        "colab_type": "code",
        "colab": {},
        "outputId": "441d8945-3aac-4459-ea13-b691f610fc21"
      },
      "source": [
        "le.inverse_transform([np.argmax(label[0])])"
      ],
      "execution_count": null,
      "outputs": [
        {
          "output_type": "execute_result",
          "data": {
            "text/plain": [
              "array(['l'], dtype='<U1')"
            ]
          },
          "metadata": {
            "tags": []
          },
          "execution_count": 148
        }
      ]
    },
    {
      "cell_type": "code",
      "metadata": {
        "id": "52FTPPdxQsF9",
        "colab_type": "code",
        "colab": {}
      },
      "source": [
        "model.save_weights(\n",
        "    \"/content/model.h5\", overwrite=True, save_format=None\n",
        ")"
      ],
      "execution_count": null,
      "outputs": []
    },
    {
      "cell_type": "code",
      "metadata": {
        "id": "laIlBp9-Ul1G",
        "colab_type": "code",
        "colab": {}
      },
      "source": [
        "model.load_weights(\"/content/model.h5\")"
      ],
      "execution_count": null,
      "outputs": []
    },
    {
      "cell_type": "code",
      "metadata": {
        "id": "bP2e5p9fUrWH",
        "colab_type": "code",
        "colab": {}
      },
      "source": [
        ""
      ],
      "execution_count": null,
      "outputs": []
    }
  ]
}